{
 "cells": [
  {
   "cell_type": "code",
   "execution_count": 3,
   "metadata": {},
   "outputs": [],
   "source": [
    "from datetime import date\n",
    "\n",
    "class Clientes:\n",
    "    \"\"\"\n",
    "    Classes clientes\n",
    "    Atributos:\n",
    "        Nome:\n",
    "        CPF:\n",
    "        Data de Nascimento:\n",
    "    \"\"\"\n",
    "    def __init__(self, nome: str, cpf: str, data_nascimento: date):\n",
    "        self._nome: str = nome\n",
    "        self._cpf: str = cpf\n",
    "        self._data_nascimento: str = data_nascimento\n",
    "    \n",
    "    @property\n",
    "    def nome_cliente(self) -> str:\n",
    "        return self._nome\n",
    "    \n",
    "    @nome_cliente.setter\n",
    "    def nome_cliente(self, nome: str) -> None:\n",
    "        self._nome = nome\n",
    "    \n",
    "    @property\n",
    "    def cpf(self) -> str:\n",
    "        return self._cpf\n",
    "    \n",
    "    @property\n",
    "    def data_nasc(self) -> date:\n",
    "        return self._data_nascimento"
   ]
  },
  {
   "cell_type": "code",
   "execution_count": null,
   "metadata": {},
   "outputs": [],
   "source": [
    "class MedicamentosQuimioterapicos:\n",
    "    def __init__(self, nome: str, principalComposto: str, laboratorio: str, descricao: str, necessita_receita: bool):\n",
    "        self._nome: str = nome\n",
    "        self._principalComporto: str = principalComposto\n",
    "        self._laboratorio: str = laboratorio\n",
    "        self._descricao: str = descricao\n",
    "        self.necessita_receita: str = necessita_receita"
   ]
  },
  {
   "cell_type": "code",
   "execution_count": null,
   "metadata": {},
   "outputs": [],
   "source": [
    "class MedicamentosFitoterapicos:\n",
    "    def __init__(self, nome: str, principalComposto: str, laboratorio: str, descricao: str, necessita_receita: bool):\n",
    "        self._nome: str = nome\n",
    "        self._principalComporto: str = principalComposto\n",
    "        self._laboratorio: str = laboratorio\n",
    "        self._descricao: str = descricao"
   ]
  },
  {
   "cell_type": "code",
   "execution_count": null,
   "metadata": {},
   "outputs": [],
   "source": [
    "class Laboratorio:\n",
    "    def __init__(self, nome: str, endereco: str, telefone: str, cidade: str, estado: str):\n",
    "        self._nome: str = nome\n",
    "        self._endereco: str = endereco\n",
    "        self._telefone: str = telefone\n",
    "        self._cidade: str = cidade\n",
    "        self._estado: str = estado"
   ]
  },
  {
   "cell_type": "code",
   "execution_count": null,
   "metadata": {},
   "outputs": [],
   "source": [
    "class Vendas:\n",
    "    def __init__(self) -> None:\n",
    "        pass"
   ]
  }
 ],
 "metadata": {
  "kernelspec": {
   "display_name": "Python 3",
   "language": "python",
   "name": "python3"
  },
  "language_info": {
   "codemirror_mode": {
    "name": "ipython",
    "version": 3
   },
   "file_extension": ".py",
   "mimetype": "text/x-python",
   "name": "python",
   "nbconvert_exporter": "python",
   "pygments_lexer": "ipython3",
   "version": "3.11.3"
  },
  "orig_nbformat": 4
 },
 "nbformat": 4,
 "nbformat_minor": 2
}
