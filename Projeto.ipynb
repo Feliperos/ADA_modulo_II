{
 "cells": [
  {
   "cell_type": "code",
   "execution_count": 14,
   "metadata": {},
   "outputs": [],
   "source": [
    "from datetime import date\n",
    "\n",
    "class Clientes:\n",
    "    \"\"\"\n",
    "    Classes clientes\n",
    "    Atributos:\n",
    "        Nome:\n",
    "        CPF:\n",
    "        Data de Nascimento:\n",
    "    \"\"\"\n",
    "    def __init__(self, nome: str, cpf: str, data_nascimento: date):\n",
    "        self._nome: str = nome\n",
    "        self._cpf: str = cpf\n",
    "        self._data_nascimento: str = data_nascimento\n",
    "        print('Novo cliente cadastrado')\n",
    "    \n",
    "    @property\n",
    "    def nome_cliente(self) -> str:\n",
    "        return self._nome\n",
    "    \n",
    "    @nome_cliente.setter\n",
    "    def nome_cliente(self, nome: str) -> None:\n",
    "        self._nome = nome\n",
    "    \n",
    "    @property\n",
    "    def cpf(self) -> str:\n",
    "        return self._cpf\n",
    "    \n",
    "    @property\n",
    "    def data_nasc(self) -> date:\n",
    "        return self._data_nascimento"
   ]
  },
  {
   "cell_type": "code",
   "execution_count": 2,
   "metadata": {},
   "outputs": [],
   "source": [
    "class MedicamentosQuimioterapicos:\n",
    "    def __init__(self, nome: str, principalComposto: str, laboratorio: str, descricao: str, necessita_receita: bool):\n",
    "        self._nome: str = nome\n",
    "        self._principalComporto: str = principalComposto\n",
    "        self._laboratorio: str = laboratorio\n",
    "        self._descricao: str = descricao\n",
    "        self.necessita_receita: str = necessita_receita"
   ]
  },
  {
   "cell_type": "code",
   "execution_count": 3,
   "metadata": {},
   "outputs": [],
   "source": [
    "class MedicamentosFitoterapicos:\n",
    "    def __init__(self, nome: str, principalComposto: str, laboratorio: str, descricao: str, necessita_receita: bool):\n",
    "        self._nome: str = nome\n",
    "        self._principalComporto: str = principalComposto\n",
    "        self._laboratorio: str = laboratorio\n",
    "        self._descricao: str = descricao"
   ]
  },
  {
   "cell_type": "code",
   "execution_count": 4,
   "metadata": {},
   "outputs": [],
   "source": [
    "class Laboratorio:\n",
    "    id_laboratorio = 0\n",
    "    def __init__(self, nome: str, endereco: str, telefone: str, cidade: str, estado: str):\n",
    "        Laboratorio.id_laboratorio += 1\n",
    "        self._id: int = Laboratorio.id_laboratorio\n",
    "        self._nome: str = nome\n",
    "        self._endereco: str = endereco\n",
    "        self._telefone: str = telefone\n",
    "        self._cidade: str = cidade\n",
    "        self._estado: str = estado"
   ]
  },
  {
   "cell_type": "code",
   "execution_count": 5,
   "metadata": {},
   "outputs": [],
   "source": [
    "class Vendas:\n",
    "    def __init__(self) -> None:\n",
    "        pass"
   ]
  },
  {
   "cell_type": "code",
   "execution_count": null,
   "metadata": {},
   "outputs": [],
   "source": [
    "def imprime_menu_principal():\n",
    "  print(\"#--------------------------------------#\")\n",
    "  print(\"# Boas vindas ao nosso sistema:        #\")\n",
    "  print(\"#                                      #\")\n",
    "  print(\"# 1 - Clientes                         #\")\n",
    "  print(\"# 2 - Medicamentos                     #\")\n",
    "  print(\"# 3 - Venda                            #\")\n",
    "  print(\"# 4 - Relatórios                       #\")\n",
    "  print(\"# 5 - Sair                             #\")\n",
    "  print(\"#                                      #\")\n",
    "  print(\"#--------------------------------------#\")"
   ]
  },
  {
   "cell_type": "code",
   "execution_count": null,
   "metadata": {},
   "outputs": [],
   "source": [
    "def print_sub_menu_cliente():\n",
    "  print(\"#--------------------------------------#\")\n",
    "  print(\"# Qual operação deseja fazer?          #\")\n",
    "  print(\"#                                      #\")\n",
    "  print(\"# 1 - Cadastrar Novo Cliente           #\")\n",
    "  print(\"# 2 - Buscar Cliente                   #\")\n",
    "  print(\"#                                      #\")\n",
    "  print(\"#--------------------------------------#\")"
   ]
  },
  {
   "cell_type": "code",
   "execution_count": null,
   "metadata": {},
   "outputs": [],
   "source": [
    "def print_sub_menu_Medicamento():\n",
    "  print(\"#--------------------------------------#\")\n",
    "  print(\"# Qual operação deseja fazer?          #\")\n",
    "  print(\"#                                      #\")\n",
    "  print(\"# 1 - Cadastrar Novo Medicamento       #\")\n",
    "  print(\"# 2 - Buscar pelo Nome                 #\")\n",
    "  print(\"# 3 - Buscar pelo Fabricante           #\")\n",
    "  print(\"# 4 - Buscar por descrição             #\")\n",
    "  print(\"#                                      #\")\n",
    "  print(\"#--------------------------------------#\")"
   ]
  },
  {
   "cell_type": "code",
   "execution_count": 30,
   "metadata": {},
   "outputs": [],
   "source": [
    "def print_sub_menu_venda():\n",
    "  print(\"#--------------------------------------#\")\n",
    "  print(\"# Qual operação deseja fazer?          #\")\n",
    "  print(\"#                                      #\")\n",
    "  print(\"# 1 - Adicionar item ao carrinho       #\")\n",
    "  print(\"# 2 - Finalizar compra                 #\")\n",
    "  print(\"# 3 - Desistir de comprar              #\")\n",
    "  print(\"#                                      #\")\n",
    "  print(\"#--------------------------------------#\")"
   ]
  },
  {
   "cell_type": "code",
   "execution_count": null,
   "metadata": {},
   "outputs": [],
   "source": [
    "def print_sub_menu_relatorios():\n",
    "  \"\"\"\"\n",
    "  \"\"\"\n",
    "  print(\"#--------------------------------------#\")\n",
    "  print(\"# Qual operação deseja fazer?          #\")\n",
    "  print(\"#                                      #\")\n",
    "  print(\"# 1 - Exibir relatório de clientes     #\")\n",
    "  print(\"# 2 - Exibir relatório de medicamentos #\")\n",
    "  print(\"# 3 - Exibir relatório de vendas       #\")\n",
    "  print(\"# 4 - Exibir estatísticas de vendas    #\")\n",
    "  print(\"#                                      #\")\n",
    "  print(\"#--------------------------------------#\")"
   ]
  },
  {
   "cell_type": "code",
   "execution_count": 21,
   "metadata": {},
   "outputs": [],
   "source": [
    "#Funcoes do menu principal\n",
    "clientes = []\n",
    "medicamentos = []\n",
    "vendas = []\n",
    "\n",
    "def buscar_cliente(clientes, cpf):\n",
    "    for i in clientes:\n",
    "        if i.cpf == cpf:\n",
    "            return i\n",
    "    \n",
    "    print(\"Cliente não encontrado\")\n",
    "    return None\n",
    "\n",
    "def cadastrar_cliente(clientes):\n",
    "    nome = input('Digite o nome: ')\n",
    "    cpf = input('Digite o CPF: ')\n",
    "    data_nasc = input('Digite a data de nascimento: ')\n",
    "\n",
    "    check_cpf = busca_cliente(clientes, cpf)\n",
    "\n",
    "    if check_cpf == None:\n",
    "        clientes.append(Clientes(nome,cpf,data_nasc))\n",
    "    else:\n",
    "        print(\"CPF já cadastrado\")\n"
   ]
  },
  {
   "cell_type": "code",
   "execution_count": 25,
   "metadata": {},
   "outputs": [
    {
     "name": "stdout",
     "output_type": "stream",
     "text": [
      "Novo cliente cadastrado\n"
     ]
    }
   ],
   "source": [
    "cadastrar_cliente(clientes)"
   ]
  },
  {
   "cell_type": "code",
   "execution_count": 26,
   "metadata": {},
   "outputs": [
    {
     "name": "stdout",
     "output_type": "stream",
     "text": [
      "nomedocliente\n",
      "21212312323\n",
      "01/01/1990\n"
     ]
    }
   ],
   "source": [
    "print(clientes[0].nome_cliente)\n",
    "print(clientes[0].cpf)\n",
    "print(clientes[0].data_nasc)"
   ]
  },
  {
   "cell_type": "code",
   "execution_count": 28,
   "metadata": {},
   "outputs": [],
   "source": [
    "teste = buscar_cliente(clientes,\"21212312323\")"
   ]
  },
  {
   "cell_type": "code",
   "execution_count": 29,
   "metadata": {},
   "outputs": [
    {
     "name": "stdout",
     "output_type": "stream",
     "text": [
      "nomedocliente\n",
      "21212312323\n",
      "01/01/1990\n"
     ]
    }
   ],
   "source": [
    "def imprimir_cliente(cliente):\n",
    "    \"\"\"\n",
    "    Recebe um objeto da classe Cliente e imprime seus atributos\n",
    "    \"\"\"\n",
    "\n",
    "    print(cliente.nome_cliente)\n",
    "    print(cliente.cpf)\n",
    "    print(cliente.data_nasc)"
   ]
  },
  {
   "cell_type": "code",
   "execution_count": null,
   "metadata": {},
   "outputs": [],
   "source": [
    "def menu_cliente():\n",
    "    opcao_cliente = 0\n",
    "    print_sub_menu_cliente()\n",
    "    opcao_cliente = input()\n",
    "    \n",
    "    if opcao_cliente == '1':\n",
    "        cadastrar_cliente(clientes)\n",
    "    elif opcao_cliente == '2':\n",
    "        search_cpf = input('Digite o CPF:')\n",
    "        resp = buscar_cliente(clientes, search_cpf)\n",
    "        if resp != None:\n",
    "            imprimir_cliente(resp)\n",
    "    else:\n",
    "        print(\"Opção inválida\")\n",
    "      #funcao de cliente"
   ]
  },
  {
   "cell_type": "code",
   "execution_count": null,
   "metadata": {},
   "outputs": [],
   "source": [
    "def menu_medicamento():\n",
    "    opcao_medicamento = 0\n",
    "    print_sub_menu_Medicamento()\n",
    "    opcao_medicamento = inpu()\n",
    "\n",
    "    if opcao_medicamento == '1':\n",
    "        pass\n",
    "    else:\n",
    "        print(\"Opção inválida\")"
   ]
  },
  {
   "cell_type": "code",
   "execution_count": null,
   "metadata": {},
   "outputs": [],
   "source": [
    "def main():\n",
    "    \n",
    "    opcao = 0\n",
    "    opcao_cliente = 0\n",
    "    opcao_medicamento = 0\n",
    "    opcao_venda = 0\n",
    "    \n",
    "    while(opcao != '6'):\n",
    "    imprime_menu_principal()\n",
    "\n",
    "    opcao = input()\n",
    "\n",
    "    if opcao == '1':\n",
    "      menu_cliente()\n",
    "    elif opcao == '2':\n",
    "      dict_user = delete_user(dict_user)\n",
    "    elif opcao == '3':\n",
    "      dict_user = change_data(dict_user)\n",
    "    elif opcao == '4':\n",
    "      exibirAlgumUsuario(dict_user)\n",
    "    elif opcao == '5':\n",
    "      exibirTodosUsuarios(dict_user)\n",
    "    elif opcao == '6':\n",
    "      save_data(caminho_bd, dict_user)\n",
    "      break\n",
    "    else:\n",
    "      print(f'Opção inválida!')"
   ]
  }
 ],
 "metadata": {
  "kernelspec": {
   "display_name": "Python 3 (ipykernel)",
   "language": "python",
   "name": "python3"
  },
  "language_info": {
   "codemirror_mode": {
    "name": "ipython",
    "version": 3
   },
   "file_extension": ".py",
   "mimetype": "text/x-python",
   "name": "python",
   "nbconvert_exporter": "python",
   "pygments_lexer": "ipython3",
   "version": "3.10.9"
  },
  "orig_nbformat": 4
 },
 "nbformat": 4,
 "nbformat_minor": 2
}
